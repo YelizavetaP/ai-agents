{
 "cells": [
  {
   "cell_type": "markdown",
   "metadata": {},
   "source": [
    "Running nodes in paralel"
   ]
  },
  {
   "cell_type": "code",
   "execution_count": 1,
   "metadata": {},
   "outputs": [],
   "source": [
    "from langchain_openai import ChatOpenAI\n",
    "\n",
    "from typing_extensions import TypedDict\n",
    "\n",
    "from langgraph.graph import StateGraph, START, END\n",
    "from IPython.display import Image, display\n"
   ]
  },
  {
   "cell_type": "code",
   "execution_count": null,
   "metadata": {},
   "outputs": [],
   "source": [
    "import os\n",
    "from dotenv import load_dotenv\n",
    "load_dotenv()\n",
    "\n",
    "llm = ChatOpenAI(\n",
    "    model=os.getenv(\"LLM_MODEL\", \"gpt-4o-mini\"),\n",
    "    api_key=os.getenv(\"OPENAI_API_KEY\"),\n",
    "\n",
    ")"
   ]
  },
  {
   "cell_type": "code",
   "execution_count": 3,
   "metadata": {},
   "outputs": [],
   "source": [
    "class State(TypedDict):\n",
    "    topic: str\n",
    "    joke: str\n",
    "    story: str\n",
    "    poem: str\n",
    "    combined: str"
   ]
  },
  {
   "cell_type": "code",
   "execution_count": 4,
   "metadata": {},
   "outputs": [],
   "source": [
    "def write_joke(state: State) -> State:\n",
    "    msg = llm.invoke(f\"Write a joke about {state['topic']}\")\n",
    "    return {'joke': msg.content}\n",
    "\n",
    "def generate_story(state: State) -> State:\n",
    "    msg = llm.invoke(f\"Write a story about {state['topic']}\")\n",
    "    return {'story': msg.content}\n",
    "\n",
    "def generate_poem(state: State) -> State:\n",
    "    msg = llm.invoke(f\"Write a poem about {state['topic']}\")\n",
    "    return {'poem': msg.content}"
   ]
  },
  {
   "cell_type": "code",
   "execution_count": 5,
   "metadata": {},
   "outputs": [],
   "source": [
    "def aggregate(state: State) -> State:\n",
    "    combined = f\"Joke: {state['joke']}\\n\\nStory: {state['story']}\\n\\nPoem: {state['poem']}\"\n",
    "    return {'combined': combined}"
   ]
  },
  {
   "cell_type": "code",
   "execution_count": 7,
   "metadata": {},
   "outputs": [
    {
     "data": {
      "image/png": "[encoded data removed]",
      "text/plain": [
       "<IPython.core.display.Image object>"
      ]
     },
     "metadata": {},
     "output_type": "display_data"
    }
   ],
   "source": [
    "# Build workflow\n",
    "parallel_graph = StateGraph(State)\n",
    "\n",
    "# add nodes\n",
    "parallel_graph.add_node(\"write_joke\", write_joke)\n",
    "parallel_graph.add_node(\"generate_story\", generate_story)\n",
    "parallel_graph.add_node(\"generate_poem\", generate_poem)\n",
    "parallel_graph.add_node(\"aggregate\", aggregate)\n",
    "\n",
    "# add edges to connect nodes\n",
    "parallel_graph.add_edge(START, \"write_joke\")\n",
    "parallel_graph.add_edge(START, \"generate_story\")\n",
    "parallel_graph.add_edge(START, \"generate_poem\")\n",
    "\n",
    "\n",
    "parallel_graph.add_edge(\"write_joke\", \"aggregate\")\n",
    "parallel_graph.add_edge(\"generate_story\", \"aggregate\")\n",
    "parallel_graph.add_edge(\"generate_poem\", \"aggregate\")\n",
    "\n",
    "\n",
    "parallel_graph.add_edge(\"aggregate\", END)\n",
    "\n",
    "chain = parallel_graph.compile()\n",
    "\n",
    "\n",
    "display(Image(chain.get_graph().draw_mermaid_png()))\n",
    "\n"
   ]
  },
  {
   "cell_type": "code",
   "execution_count": 8,
   "metadata": {},
   "outputs": [
    {
     "name": "stdout",
     "output_type": "stream",
     "text": [
      "Joke:  Why did the dog sit in the shade?\n",
      "\n",
      "Because he didn’t want to become a hot dog! 🐶🌭\n",
      "----------------------------------------------------------------------------------------------------\n",
      "Story:  Once upon a time in a small village nestled between rolling hills and a sparkling river, there lived a scruffy golden retriever named Max. Max belonged to an elderly woman named Mrs. Thompson, who had lived in the village for as long as anyone could remember. She was known for her kind heart and delicious baked goods, but in recent years, she had grown lonely since her husband passed away.\n",
      "\n",
      "Every morning, Max would accompany Mrs. Thompson as she tended to her garden filled with vibrant flowers and fragrant herbs. He loved the sun on his fur and the sound of the birds singing in the trees, but most of all, he loved spending time with his beloved owner. Mrs. Thompson often talked to him as if he were her dear friend, sharing her stories, dreams, and worries. Max would listen intently, his tail wagging happily with every word.\n",
      "\n",
      "One day, as Mrs. Thompson was baking her famous blueberry pie, she noticed he was acting strangely. He kept pacing back and forth by the door, barking insistently. Tightening her apron strings, she decided to see what had caught his attention. Opening the door, she saw a small boy standing at the edge of her garden, tears streaming down his cheeks.\n",
      "\n",
      "“Are you lost?” Mrs. Thompson asked gently, kneeling down to his level.\n",
      "\n",
      "The boy nodded, sniffling. “I can’t find my way home. I was playing too far away.”\n",
      "\n",
      "Mrs. Thompson gestured for him to approach, and Max immediately bounded over to offer the boy’s hand some comfort with a slobbery lick. “Don’t worry, dear. You can come inside, and we'll figure it out together.”\n",
      "\n",
      "As the boy wiped his tears and stepped into the warm kitchen filled with the aroma of baking pie, Max stayed close to him, offering companionship. They chatted and shared stories while Mrs. Thompson worked. The boy, whose name was Sam, shared tales of his adventures, and in return, Mrs. Thompson told him about the village’s history and her own memories.\n",
      "\n",
      "It wasn’t long before Mrs. Thompson decided to help Sam find his way home. \"Max, would you like to help us?\" she asked, and Max let out an enthusiastic bark, ready for adventure. As they stepped outside, Max confidently led the way, his nose twitching in the air, searching for familiar scents.\n",
      "\n",
      "They wandered through the village, stopping to greet neighbors and bask in the warm sun until they reached a familiar street. Suddenly, Max paused, his ears perked up. He sniffed the air and then took off down a narrow path, with Mrs. Thompson and Sam in tow. They turned a corner, and there, at the end of the lane, was a worried mother calling out for her son.\n",
      "\n",
      "“Sam!” she exclaimed, rushing forward to scoop him up in her arms. “I was so worried! Thank you so much!” she said, turning to Mrs. Thompson and Max, who barked proudly, as if pleased with their successful mission.\n",
      "\n",
      "With a smile, Mrs. Thompson waved goodbye, watching as the small family disappeared down the street. That evening, she and Max celebrated with a special dinner of chicken and rice, and of course, a slice of blueberry pie for dessert.\n",
      "\n",
      "From that day on, Sam became a frequent visitor at Mrs. Thompson's house. He helped in the garden, played with Max, and even learned how to bake. The bond between the three grew stronger, changing Mrs. Thompson’s life for the better and giving Max a new friend to share his adventures with.\n",
      "\n",
      "As seasons passed and the flowers bloomed and withered, Max and Mrs. Thompson felt as if they had a little piece of joy restored in their lives. In their hearts, they knew that sometimes, all it takes is a wagging tail, a kind word, and a little companionship to bring happiness back into the world.\n",
      "----------------------------------------------------------------------------------------------------\n",
      "Poem:  In a world of wonder, where shadows play,  \n",
      "A wagging tail brightens the day.  \n",
      "With joyful barks that dance on the breeze,  \n",
      "A loyal companion, our hearts to please.  \n",
      "\n",
      "Eyes like embers, sparkling and wise,  \n",
      "A love so pure, it never denies.  \n",
      "From sunrise walks to moonlit nights,  \n",
      "Together we chase dreams, take flight.  \n",
      "\n",
      "With every leap and bound that you make,  \n",
      "The world grows lighter, the burdens shake.  \n",
      "Through fields of gold and forests deep,  \n",
      "In your warm presence, my worries sleep.  \n",
      "\n",
      "You know the secrets of my soul,  \n",
      "A silent guardian, making me whole.  \n",
      "In playful grumbles and gentle sighs,  \n",
      "You speak a language that never lies.  \n",
      "\n",
      "Oh, cuddled close on a rainy day,  \n",
      "With paws beside me, come what may.  \n",
      "In laughter and tears, our bond will weave,  \n",
      "A tapestry rich, in love we believe.  \n",
      "\n",
      "So here’s to the dogs, our cherished friends,  \n",
      "With hearts so huge, where love never ends.  \n",
      "May we wander together, side by side,  \n",
      "With you, dear dog, my forever guide.  \n",
      "----------------------------------------------------------------------------------------------------\n",
      "Combined:  Joke: Why did the dog sit in the shade?\n",
      "\n",
      "Because he didn’t want to become a hot dog! 🐶🌭\n",
      "\n",
      "Story: Once upon a time in a small village nestled between rolling hills and a sparkling river, there lived a scruffy golden retriever named Max. Max belonged to an elderly woman named Mrs. Thompson, who had lived in the village for as long as anyone could remember. She was known for her kind heart and delicious baked goods, but in recent years, she had grown lonely since her husband passed away.\n",
      "\n",
      "Every morning, Max would accompany Mrs. Thompson as she tended to her garden filled with vibrant flowers and fragrant herbs. He loved the sun on his fur and the sound of the birds singing in the trees, but most of all, he loved spending time with his beloved owner. Mrs. Thompson often talked to him as if he were her dear friend, sharing her stories, dreams, and worries. Max would listen intently, his tail wagging happily with every word.\n",
      "\n",
      "One day, as Mrs. Thompson was baking her famous blueberry pie, she noticed he was acting strangely. He kept pacing back and forth by the door, barking insistently. Tightening her apron strings, she decided to see what had caught his attention. Opening the door, she saw a small boy standing at the edge of her garden, tears streaming down his cheeks.\n",
      "\n",
      "“Are you lost?” Mrs. Thompson asked gently, kneeling down to his level.\n",
      "\n",
      "The boy nodded, sniffling. “I can’t find my way home. I was playing too far away.”\n",
      "\n",
      "Mrs. Thompson gestured for him to approach, and Max immediately bounded over to offer the boy’s hand some comfort with a slobbery lick. “Don’t worry, dear. You can come inside, and we'll figure it out together.”\n",
      "\n",
      "As the boy wiped his tears and stepped into the warm kitchen filled with the aroma of baking pie, Max stayed close to him, offering companionship. They chatted and shared stories while Mrs. Thompson worked. The boy, whose name was Sam, shared tales of his adventures, and in return, Mrs. Thompson told him about the village’s history and her own memories.\n",
      "\n",
      "It wasn’t long before Mrs. Thompson decided to help Sam find his way home. \"Max, would you like to help us?\" she asked, and Max let out an enthusiastic bark, ready for adventure. As they stepped outside, Max confidently led the way, his nose twitching in the air, searching for familiar scents.\n",
      "\n",
      "They wandered through the village, stopping to greet neighbors and bask in the warm sun until they reached a familiar street. Suddenly, Max paused, his ears perked up. He sniffed the air and then took off down a narrow path, with Mrs. Thompson and Sam in tow. They turned a corner, and there, at the end of the lane, was a worried mother calling out for her son.\n",
      "\n",
      "“Sam!” she exclaimed, rushing forward to scoop him up in her arms. “I was so worried! Thank you so much!” she said, turning to Mrs. Thompson and Max, who barked proudly, as if pleased with their successful mission.\n",
      "\n",
      "With a smile, Mrs. Thompson waved goodbye, watching as the small family disappeared down the street. That evening, she and Max celebrated with a special dinner of chicken and rice, and of course, a slice of blueberry pie for dessert.\n",
      "\n",
      "From that day on, Sam became a frequent visitor at Mrs. Thompson's house. He helped in the garden, played with Max, and even learned how to bake. The bond between the three grew stronger, changing Mrs. Thompson’s life for the better and giving Max a new friend to share his adventures with.\n",
      "\n",
      "As seasons passed and the flowers bloomed and withered, Max and Mrs. Thompson felt as if they had a little piece of joy restored in their lives. In their hearts, they knew that sometimes, all it takes is a wagging tail, a kind word, and a little companionship to bring happiness back into the world.\n",
      "\n",
      "Poem: In a world of wonder, where shadows play,  \n",
      "A wagging tail brightens the day.  \n",
      "With joyful barks that dance on the breeze,  \n",
      "A loyal companion, our hearts to please.  \n",
      "\n",
      "Eyes like embers, sparkling and wise,  \n",
      "A love so pure, it never denies.  \n",
      "From sunrise walks to moonlit nights,  \n",
      "Together we chase dreams, take flight.  \n",
      "\n",
      "With every leap and bound that you make,  \n",
      "The world grows lighter, the burdens shake.  \n",
      "Through fields of gold and forests deep,  \n",
      "In your warm presence, my worries sleep.  \n",
      "\n",
      "You know the secrets of my soul,  \n",
      "A silent guardian, making me whole.  \n",
      "In playful grumbles and gentle sighs,  \n",
      "You speak a language that never lies.  \n",
      "\n",
      "Oh, cuddled close on a rainy day,  \n",
      "With paws beside me, come what may.  \n",
      "In laughter and tears, our bond will weave,  \n",
      "A tapestry rich, in love we believe.  \n",
      "\n",
      "So here’s to the dogs, our cherished friends,  \n",
      "With hearts so huge, where love never ends.  \n",
      "May we wander together, side by side,  \n",
      "With you, dear dog, my forever guide.  \n"
     ]
    }
   ],
   "source": [
    "state = chain.invoke({\"topic\": \"dog\"})\n",
    "print('Joke: ', state['joke'])\n",
    "print('-'*100)  \n",
    "print('Story: ', state['story'])\n",
    "print('-'*100)\n",
    "print('Poem: ', state['poem'])\n",
    "print('-'*100)\n",
    "print('Combined: ', state['combined'])\n",
    "\n"
   ]
  }
 ],
 "metadata": {
  "kernelspec": {
   "display_name": "LangGraph312",
   "language": "python",
   "name": "python3"
  },
  "language_info": {
   "codemirror_mode": {
    "name": "ipython",
    "version": 3
   },
   "file_extension": ".py",
   "mimetype": "text/x-python",
   "name": "python",
   "nbconvert_exporter": "python",
   "pygments_lexer": "ipython3",
   "version": "3.12.9"
  }
 },
 "nbformat": 4,
 "nbformat_minor": 2
}
