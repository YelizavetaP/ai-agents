{
 "cells": [
  {
   "cell_type": "markdown",
   "metadata": {},
   "source": [
    "Simple workflow"
   ]
  },
  {
   "cell_type": "code",
   "execution_count": 4,
   "metadata": {},
   "outputs": [],
   "source": [
    "from langchain_openai import ChatOpenAI"
   ]
  },
  {
   "cell_type": "code",
   "execution_count": 2,
   "metadata": {},
   "outputs": [],
   "source": [
    "from typing_extensions import TypedDict\n",
    "\n",
    "# Graph state\n",
    "class State(TypedDict):\n",
    "    topic: str\n",
    "    joke: str\n",
    "    improved_joke: str\n",
    "    final_joke: str\n"
   ]
  },
  {
   "cell_type": "code",
   "execution_count": null,
   "metadata": {},
   "outputs": [],
   "source": [
    "import os\n",
    "from dotenv import load_dotenv\n",
    "load_dotenv()\n",
    "\n",
    "llm = ChatOpenAI(\n",
    "    model=os.getenv(\"LLM_MODEL\", \"gpt-4o-mini\"),\n",
    "    api_key=os.getenv(\"OPENAI_API_KEY\"),\n",
    "\n",
    ")"
   ]
  },
  {
   "cell_type": "code",
   "execution_count": 7,
   "metadata": {},
   "outputs": [],
   "source": [
    "# Nodes\n",
    "\n",
    "def generate_joke(state: State) -> str:\n",
    "    msg = llm.invoke(f\"Generate a joke about {state['topic']}\")\n",
    "    return {\"joke\": msg.content}\n",
    "\n",
    "def improve_joke(state: State) -> str:\n",
    "    msg = llm.invoke(f\"Make the joke more funny by adding worldplay: {state['joke']}\")\n",
    "    return {\"improved_joke\": msg.content}\n",
    "\n",
    "def generate_final_joke(state: State) -> str:\n",
    "    msg = llm.invoke(f\"Add a punchline to the joke: {state['improved_joke']}\")\n",
    "    return {\"final_joke\": msg.content}\n",
    "\n",
    "\n"
   ]
  },
  {
   "cell_type": "code",
   "execution_count": 8,
   "metadata": {},
   "outputs": [],
   "source": [
    "# Conditional edge(gate )\n",
    "def check_joke(state: State) -> str:\n",
    "    if '?' in state['joke'] or '!' in state['joke']:\n",
    "        return 'Pass'\n",
    "    else:\n",
    "        return 'Fail'"
   ]
  },
  {
   "cell_type": "code",
   "execution_count": null,
   "metadata": {},
   "outputs": [
    {
     "data": {
      "image/png": "[encoded data removed]",
      "text/plain": [
       "<IPython.core.display.Image object>"
      ]
     },
     "metadata": {},
     "output_type": "display_data"
    }
   ],
   "source": [
    "from langgraph.graph import StateGraph, START, END\n",
    "from IPython.display import Image, display\n",
    "\n",
    "# Build the workflow\n",
    "workflow = StateGraph(State)\n",
    "\n",
    "# add nodes\n",
    "workflow.add_node(\"generate_joke\", generate_joke)\n",
    "workflow.add_node(\"improve_joke\", improve_joke)\n",
    "workflow.add_node(\"generate_final_joke\", generate_final_joke)\n",
    "\n",
    "# add edges\n",
    "workflow.add_edge(START, \"generate_joke\")\n",
    "workflow.add_conditional_edges(\n",
    "    \"generate_joke\",\n",
    "    check_joke,\n",
    "    {\"Pass\": \"improve_joke\", \"Fail\": END}\n",
    ")\n",
    "\n",
    "workflow.add_edge(\"improve_joke\", \"generate_final_joke\")\n",
    "workflow.add_edge(\"generate_final_joke\", END)\n",
    "\n",
    "\n",
    "chain = workflow.compile()\n",
    "\n",
    "display(Image(chain.get_graph().draw_mermaid_png()))\n"
   ]
  },
  {
   "cell_type": "code",
   "execution_count": 14,
   "metadata": {},
   "outputs": [
    {
     "name": "stdout",
     "output_type": "stream",
     "text": [
      "Initial joke:  Why did the dog sit in the shade? \n",
      "\n",
      "Because it didn’t want to become a hot dog! 🐶🌭\n",
      "----------------------------------------------------------------------------------------------------\n",
      "Improved joke:  Why did the dog sit in the shade? \n",
      "\n",
      "Because it didn't want to become a *pawsitive* hot dog! 🐶🌭\n",
      "----------------------------------------------------------------------------------------------------\n",
      "Final joke:  Why did the dog sit in the shade? \n",
      "\n",
      "Because it didn't want to become a *pawsitive* hot dog! 🐶🌭 And it was tired of being the \"bark\" of the town!\n"
     ]
    }
   ],
   "source": [
    "state = chain.invoke({\"topic\": \"dog\"})\n",
    "print('Initial joke: ', state['joke'])\n",
    "print('-'*100)  \n",
    "if 'improved_joke' in state:\n",
    "    print('Improved joke: ', state['improved_joke'])\n",
    "    print('-'*100)\n",
    "    print('Final joke: ', state['final_joke'])\n",
    "else:\n",
    "    print('No improved joke generated')\n"
   ]
  }
 ],
 "metadata": {
  "kernelspec": {
   "display_name": "LangGraph312",
   "language": "python",
   "name": "python3"
  },
  "language_info": {
   "codemirror_mode": {
    "name": "ipython",
    "version": 3
   },
   "file_extension": ".py",
   "mimetype": "text/x-python",
   "name": "python",
   "nbconvert_exporter": "python",
   "pygments_lexer": "ipython3",
   "version": "3.12.9"
  }
 },
 "nbformat": 4,
 "nbformat_minor": 2
}
